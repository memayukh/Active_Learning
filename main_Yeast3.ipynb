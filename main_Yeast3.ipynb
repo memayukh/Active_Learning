{
  "nbformat": 4,
  "nbformat_minor": 0,
  "metadata": {
    "colab": {
      "name": "main_Yeast3.ipynb",
      "provenance": [],
      "collapsed_sections": [],
      "authorship_tag": "ABX9TyN/qdm+WGqnUnn7F8XUziah"
    },
    "kernelspec": {
      "name": "python3",
      "display_name": "Python 3"
    },
    "language_info": {
      "name": "python"
    },
    "accelerator": "GPU"
  },
  "cells": [
    {
      "cell_type": "code",
      "metadata": {
        "colab": {
          "base_uri": "https://localhost:8080/"
        },
        "id": "WBymm5Yt8rLW",
        "outputId": "d77bce2c-7f88-40f5-c474-777707834a65"
      },
      "source": [
        "from google.colab import files\n",
        "from google.colab import drive\n",
        "drive.mount('/gdrive/')"
      ],
      "execution_count": null,
      "outputs": [
        {
          "output_type": "stream",
          "text": [
            "Mounted at /gdrive/\n"
          ],
          "name": "stdout"
        }
      ]
    },
    {
      "cell_type": "code",
      "metadata": {
        "id": "C7qP0yW09VrS"
      },
      "source": [
        "import warnings\n",
        "warnings.filterwarnings(\"ignore\")\n",
        "import pandas as pd\n",
        "import math\n",
        "import statistics as stat\n",
        "import numpy as np\n",
        "import scipy.stats\n",
        "import matplotlib.pyplot as plt\n",
        "import seaborn as sns\n",
        "import matplotlib.gridspec as gridspec\n"
      ],
      "execution_count": null,
      "outputs": []
    },
    {
      "cell_type": "code",
      "metadata": {
        "id": "7gykAfOWBW7T"
      },
      "source": [
        "data= pd.read_csv('/gdrive/My Drive/Active_Learning_Expt/Yeast3.csv',header=None)"
      ],
      "execution_count": null,
      "outputs": []
    },
    {
      "cell_type": "code",
      "metadata": {
        "colab": {
          "base_uri": "https://localhost:8080/",
          "height": 402
        },
        "id": "Qcr1ARuBBpNS",
        "outputId": "557206e1-f6aa-4eea-a6c9-5cb007d36454"
      },
      "source": [
        "data"
      ],
      "execution_count": null,
      "outputs": [
        {
          "output_type": "execute_result",
          "data": {
            "text/html": [
              "<div>\n",
              "<style scoped>\n",
              "    .dataframe tbody tr th:only-of-type {\n",
              "        vertical-align: middle;\n",
              "    }\n",
              "\n",
              "    .dataframe tbody tr th {\n",
              "        vertical-align: top;\n",
              "    }\n",
              "\n",
              "    .dataframe thead th {\n",
              "        text-align: right;\n",
              "    }\n",
              "</style>\n",
              "<table border=\"1\" class=\"dataframe\">\n",
              "  <thead>\n",
              "    <tr style=\"text-align: right;\">\n",
              "      <th></th>\n",
              "      <th>0</th>\n",
              "      <th>1</th>\n",
              "      <th>2</th>\n",
              "      <th>3</th>\n",
              "      <th>4</th>\n",
              "      <th>5</th>\n",
              "      <th>6</th>\n",
              "      <th>7</th>\n",
              "      <th>8</th>\n",
              "    </tr>\n",
              "  </thead>\n",
              "  <tbody>\n",
              "    <tr>\n",
              "      <th>0</th>\n",
              "      <td>Mcg</td>\n",
              "      <td>Gvh</td>\n",
              "      <td>Alm</td>\n",
              "      <td>Mit</td>\n",
              "      <td>Erl</td>\n",
              "      <td>Pox</td>\n",
              "      <td>Vac</td>\n",
              "      <td>Nuc</td>\n",
              "      <td>Class</td>\n",
              "    </tr>\n",
              "    <tr>\n",
              "      <th>1</th>\n",
              "      <td>0.64</td>\n",
              "      <td>0.62</td>\n",
              "      <td>0.49</td>\n",
              "      <td>0.15</td>\n",
              "      <td>0.5</td>\n",
              "      <td>0</td>\n",
              "      <td>0.53</td>\n",
              "      <td>0.22</td>\n",
              "      <td>negative</td>\n",
              "    </tr>\n",
              "    <tr>\n",
              "      <th>2</th>\n",
              "      <td>0.58</td>\n",
              "      <td>0.44</td>\n",
              "      <td>0.57</td>\n",
              "      <td>0.13</td>\n",
              "      <td>0.5</td>\n",
              "      <td>0</td>\n",
              "      <td>0.54</td>\n",
              "      <td>0.22</td>\n",
              "      <td>negative</td>\n",
              "    </tr>\n",
              "    <tr>\n",
              "      <th>3</th>\n",
              "      <td>0.42</td>\n",
              "      <td>0.44</td>\n",
              "      <td>0.48</td>\n",
              "      <td>0.54</td>\n",
              "      <td>0.5</td>\n",
              "      <td>0</td>\n",
              "      <td>0.48</td>\n",
              "      <td>0.22</td>\n",
              "      <td>negative</td>\n",
              "    </tr>\n",
              "    <tr>\n",
              "      <th>4</th>\n",
              "      <td>0.51</td>\n",
              "      <td>0.4</td>\n",
              "      <td>0.56</td>\n",
              "      <td>0.17</td>\n",
              "      <td>0.5</td>\n",
              "      <td>0.5</td>\n",
              "      <td>0.49</td>\n",
              "      <td>0.22</td>\n",
              "      <td>negative</td>\n",
              "    </tr>\n",
              "    <tr>\n",
              "      <th>...</th>\n",
              "      <td>...</td>\n",
              "      <td>...</td>\n",
              "      <td>...</td>\n",
              "      <td>...</td>\n",
              "      <td>...</td>\n",
              "      <td>...</td>\n",
              "      <td>...</td>\n",
              "      <td>...</td>\n",
              "      <td>...</td>\n",
              "    </tr>\n",
              "    <tr>\n",
              "      <th>1480</th>\n",
              "      <td>0.77</td>\n",
              "      <td>0.74</td>\n",
              "      <td>0.37</td>\n",
              "      <td>0.29</td>\n",
              "      <td>0.5</td>\n",
              "      <td>0</td>\n",
              "      <td>0.45</td>\n",
              "      <td>0.22</td>\n",
              "      <td>negative</td>\n",
              "    </tr>\n",
              "    <tr>\n",
              "      <th>1481</th>\n",
              "      <td>0.74</td>\n",
              "      <td>0.75</td>\n",
              "      <td>0.45</td>\n",
              "      <td>0.44</td>\n",
              "      <td>0.5</td>\n",
              "      <td>0</td>\n",
              "      <td>0.52</td>\n",
              "      <td>0.22</td>\n",
              "      <td>negative</td>\n",
              "    </tr>\n",
              "    <tr>\n",
              "      <th>1482</th>\n",
              "      <td>0.32</td>\n",
              "      <td>0.29</td>\n",
              "      <td>0.29</td>\n",
              "      <td>0.08</td>\n",
              "      <td>0.5</td>\n",
              "      <td>0</td>\n",
              "      <td>0.52</td>\n",
              "      <td>0.22</td>\n",
              "      <td>positive</td>\n",
              "    </tr>\n",
              "    <tr>\n",
              "      <th>1483</th>\n",
              "      <td>0.38</td>\n",
              "      <td>0.48</td>\n",
              "      <td>0.57</td>\n",
              "      <td>0.3</td>\n",
              "      <td>0.5</td>\n",
              "      <td>0</td>\n",
              "      <td>0.41</td>\n",
              "      <td>0.11</td>\n",
              "      <td>negative</td>\n",
              "    </tr>\n",
              "    <tr>\n",
              "      <th>1484</th>\n",
              "      <td>0.43</td>\n",
              "      <td>0.4</td>\n",
              "      <td>0.6</td>\n",
              "      <td>0.16</td>\n",
              "      <td>0.5</td>\n",
              "      <td>0</td>\n",
              "      <td>0.53</td>\n",
              "      <td>0.39</td>\n",
              "      <td>negative</td>\n",
              "    </tr>\n",
              "  </tbody>\n",
              "</table>\n",
              "<p>1485 rows × 9 columns</p>\n",
              "</div>"
            ],
            "text/plain": [
              "         0     1     2     3     4     5     6     7          8\n",
              "0      Mcg   Gvh   Alm   Mit   Erl   Pox   Vac   Nuc      Class\n",
              "1     0.64  0.62  0.49  0.15   0.5     0  0.53  0.22   negative\n",
              "2     0.58  0.44  0.57  0.13   0.5     0  0.54  0.22   negative\n",
              "3     0.42  0.44  0.48  0.54   0.5     0  0.48  0.22   negative\n",
              "4     0.51   0.4  0.56  0.17   0.5   0.5  0.49  0.22   negative\n",
              "...    ...   ...   ...   ...   ...   ...   ...   ...        ...\n",
              "1480  0.77  0.74  0.37  0.29   0.5     0  0.45  0.22   negative\n",
              "1481  0.74  0.75  0.45  0.44   0.5     0  0.52  0.22   negative\n",
              "1482  0.32  0.29  0.29  0.08   0.5     0  0.52  0.22   positive\n",
              "1483  0.38  0.48  0.57   0.3   0.5     0  0.41  0.11   negative\n",
              "1484  0.43   0.4   0.6  0.16   0.5     0  0.53  0.39   negative\n",
              "\n",
              "[1485 rows x 9 columns]"
            ]
          },
          "metadata": {
            "tags": []
          },
          "execution_count": 4
        }
      ]
    },
    {
      "cell_type": "code",
      "metadata": {
        "colab": {
          "base_uri": "https://localhost:8080/"
        },
        "id": "hq6rz278KCgJ",
        "outputId": "8dde895c-e538-447f-e6c3-0ab904e99680"
      },
      "source": [
        "type(data)"
      ],
      "execution_count": null,
      "outputs": [
        {
          "output_type": "execute_result",
          "data": {
            "text/plain": [
              "pandas.core.frame.DataFrame"
            ]
          },
          "metadata": {
            "tags": []
          },
          "execution_count": 5
        }
      ]
    },
    {
      "cell_type": "code",
      "metadata": {
        "id": "pgFfMphtJdDC"
      },
      "source": [
        "dict={0:\"Mcg\",1:'Gvh',2:'Alm',3:'Mit',4:'Erl',5:'Pox',6:'Vac',7:'Nuc',8:'Class'}"
      ],
      "execution_count": null,
      "outputs": []
    },
    {
      "cell_type": "code",
      "metadata": {
        "id": "GV8vLzFyE3Gc"
      },
      "source": [
        "data.rename(columns=dict, inplace=True)"
      ],
      "execution_count": null,
      "outputs": []
    },
    {
      "cell_type": "code",
      "metadata": {
        "colab": {
          "base_uri": "https://localhost:8080/",
          "height": 402
        },
        "id": "L8d9vMheIr5n",
        "outputId": "a79d5fae-7a2a-42d6-b641-16d396353040"
      },
      "source": [
        "data"
      ],
      "execution_count": null,
      "outputs": [
        {
          "output_type": "execute_result",
          "data": {
            "text/html": [
              "<div>\n",
              "<style scoped>\n",
              "    .dataframe tbody tr th:only-of-type {\n",
              "        vertical-align: middle;\n",
              "    }\n",
              "\n",
              "    .dataframe tbody tr th {\n",
              "        vertical-align: top;\n",
              "    }\n",
              "\n",
              "    .dataframe thead th {\n",
              "        text-align: right;\n",
              "    }\n",
              "</style>\n",
              "<table border=\"1\" class=\"dataframe\">\n",
              "  <thead>\n",
              "    <tr style=\"text-align: right;\">\n",
              "      <th></th>\n",
              "      <th>Mcg</th>\n",
              "      <th>Gvh</th>\n",
              "      <th>Alm</th>\n",
              "      <th>Mit</th>\n",
              "      <th>Erl</th>\n",
              "      <th>Pox</th>\n",
              "      <th>Vac</th>\n",
              "      <th>Nuc</th>\n",
              "      <th>Class</th>\n",
              "    </tr>\n",
              "  </thead>\n",
              "  <tbody>\n",
              "    <tr>\n",
              "      <th>0</th>\n",
              "      <td>Mcg</td>\n",
              "      <td>Gvh</td>\n",
              "      <td>Alm</td>\n",
              "      <td>Mit</td>\n",
              "      <td>Erl</td>\n",
              "      <td>Pox</td>\n",
              "      <td>Vac</td>\n",
              "      <td>Nuc</td>\n",
              "      <td>Class</td>\n",
              "    </tr>\n",
              "    <tr>\n",
              "      <th>1</th>\n",
              "      <td>0.64</td>\n",
              "      <td>0.62</td>\n",
              "      <td>0.49</td>\n",
              "      <td>0.15</td>\n",
              "      <td>0.5</td>\n",
              "      <td>0</td>\n",
              "      <td>0.53</td>\n",
              "      <td>0.22</td>\n",
              "      <td>negative</td>\n",
              "    </tr>\n",
              "    <tr>\n",
              "      <th>2</th>\n",
              "      <td>0.58</td>\n",
              "      <td>0.44</td>\n",
              "      <td>0.57</td>\n",
              "      <td>0.13</td>\n",
              "      <td>0.5</td>\n",
              "      <td>0</td>\n",
              "      <td>0.54</td>\n",
              "      <td>0.22</td>\n",
              "      <td>negative</td>\n",
              "    </tr>\n",
              "    <tr>\n",
              "      <th>3</th>\n",
              "      <td>0.42</td>\n",
              "      <td>0.44</td>\n",
              "      <td>0.48</td>\n",
              "      <td>0.54</td>\n",
              "      <td>0.5</td>\n",
              "      <td>0</td>\n",
              "      <td>0.48</td>\n",
              "      <td>0.22</td>\n",
              "      <td>negative</td>\n",
              "    </tr>\n",
              "    <tr>\n",
              "      <th>4</th>\n",
              "      <td>0.51</td>\n",
              "      <td>0.4</td>\n",
              "      <td>0.56</td>\n",
              "      <td>0.17</td>\n",
              "      <td>0.5</td>\n",
              "      <td>0.5</td>\n",
              "      <td>0.49</td>\n",
              "      <td>0.22</td>\n",
              "      <td>negative</td>\n",
              "    </tr>\n",
              "    <tr>\n",
              "      <th>...</th>\n",
              "      <td>...</td>\n",
              "      <td>...</td>\n",
              "      <td>...</td>\n",
              "      <td>...</td>\n",
              "      <td>...</td>\n",
              "      <td>...</td>\n",
              "      <td>...</td>\n",
              "      <td>...</td>\n",
              "      <td>...</td>\n",
              "    </tr>\n",
              "    <tr>\n",
              "      <th>1480</th>\n",
              "      <td>0.77</td>\n",
              "      <td>0.74</td>\n",
              "      <td>0.37</td>\n",
              "      <td>0.29</td>\n",
              "      <td>0.5</td>\n",
              "      <td>0</td>\n",
              "      <td>0.45</td>\n",
              "      <td>0.22</td>\n",
              "      <td>negative</td>\n",
              "    </tr>\n",
              "    <tr>\n",
              "      <th>1481</th>\n",
              "      <td>0.74</td>\n",
              "      <td>0.75</td>\n",
              "      <td>0.45</td>\n",
              "      <td>0.44</td>\n",
              "      <td>0.5</td>\n",
              "      <td>0</td>\n",
              "      <td>0.52</td>\n",
              "      <td>0.22</td>\n",
              "      <td>negative</td>\n",
              "    </tr>\n",
              "    <tr>\n",
              "      <th>1482</th>\n",
              "      <td>0.32</td>\n",
              "      <td>0.29</td>\n",
              "      <td>0.29</td>\n",
              "      <td>0.08</td>\n",
              "      <td>0.5</td>\n",
              "      <td>0</td>\n",
              "      <td>0.52</td>\n",
              "      <td>0.22</td>\n",
              "      <td>positive</td>\n",
              "    </tr>\n",
              "    <tr>\n",
              "      <th>1483</th>\n",
              "      <td>0.38</td>\n",
              "      <td>0.48</td>\n",
              "      <td>0.57</td>\n",
              "      <td>0.3</td>\n",
              "      <td>0.5</td>\n",
              "      <td>0</td>\n",
              "      <td>0.41</td>\n",
              "      <td>0.11</td>\n",
              "      <td>negative</td>\n",
              "    </tr>\n",
              "    <tr>\n",
              "      <th>1484</th>\n",
              "      <td>0.43</td>\n",
              "      <td>0.4</td>\n",
              "      <td>0.6</td>\n",
              "      <td>0.16</td>\n",
              "      <td>0.5</td>\n",
              "      <td>0</td>\n",
              "      <td>0.53</td>\n",
              "      <td>0.39</td>\n",
              "      <td>negative</td>\n",
              "    </tr>\n",
              "  </tbody>\n",
              "</table>\n",
              "<p>1485 rows × 9 columns</p>\n",
              "</div>"
            ],
            "text/plain": [
              "       Mcg   Gvh   Alm   Mit   Erl   Pox   Vac   Nuc      Class\n",
              "0      Mcg   Gvh   Alm   Mit   Erl   Pox   Vac   Nuc      Class\n",
              "1     0.64  0.62  0.49  0.15   0.5     0  0.53  0.22   negative\n",
              "2     0.58  0.44  0.57  0.13   0.5     0  0.54  0.22   negative\n",
              "3     0.42  0.44  0.48  0.54   0.5     0  0.48  0.22   negative\n",
              "4     0.51   0.4  0.56  0.17   0.5   0.5  0.49  0.22   negative\n",
              "...    ...   ...   ...   ...   ...   ...   ...   ...        ...\n",
              "1480  0.77  0.74  0.37  0.29   0.5     0  0.45  0.22   negative\n",
              "1481  0.74  0.75  0.45  0.44   0.5     0  0.52  0.22   negative\n",
              "1482  0.32  0.29  0.29  0.08   0.5     0  0.52  0.22   positive\n",
              "1483  0.38  0.48  0.57   0.3   0.5     0  0.41  0.11   negative\n",
              "1484  0.43   0.4   0.6  0.16   0.5     0  0.53  0.39   negative\n",
              "\n",
              "[1485 rows x 9 columns]"
            ]
          },
          "metadata": {
            "tags": []
          },
          "execution_count": 8
        }
      ]
    },
    {
      "cell_type": "code",
      "metadata": {
        "id": "8vMVPjW9ItF6",
        "colab": {
          "base_uri": "https://localhost:8080/",
          "height": 77
        },
        "outputId": "c9a12e57-5089-4cc8-ccd7-9a8eb26bc59f"
      },
      "source": [
        "data[:1]"
      ],
      "execution_count": null,
      "outputs": [
        {
          "output_type": "execute_result",
          "data": {
            "text/html": [
              "<div>\n",
              "<style scoped>\n",
              "    .dataframe tbody tr th:only-of-type {\n",
              "        vertical-align: middle;\n",
              "    }\n",
              "\n",
              "    .dataframe tbody tr th {\n",
              "        vertical-align: top;\n",
              "    }\n",
              "\n",
              "    .dataframe thead th {\n",
              "        text-align: right;\n",
              "    }\n",
              "</style>\n",
              "<table border=\"1\" class=\"dataframe\">\n",
              "  <thead>\n",
              "    <tr style=\"text-align: right;\">\n",
              "      <th></th>\n",
              "      <th>Mcg</th>\n",
              "      <th>Gvh</th>\n",
              "      <th>Alm</th>\n",
              "      <th>Mit</th>\n",
              "      <th>Erl</th>\n",
              "      <th>Pox</th>\n",
              "      <th>Vac</th>\n",
              "      <th>Nuc</th>\n",
              "      <th>Class</th>\n",
              "    </tr>\n",
              "  </thead>\n",
              "  <tbody>\n",
              "    <tr>\n",
              "      <th>0</th>\n",
              "      <td>Mcg</td>\n",
              "      <td>Gvh</td>\n",
              "      <td>Alm</td>\n",
              "      <td>Mit</td>\n",
              "      <td>Erl</td>\n",
              "      <td>Pox</td>\n",
              "      <td>Vac</td>\n",
              "      <td>Nuc</td>\n",
              "      <td>Class</td>\n",
              "    </tr>\n",
              "  </tbody>\n",
              "</table>\n",
              "</div>"
            ],
            "text/plain": [
              "   Mcg   Gvh   Alm   Mit   Erl   Pox   Vac   Nuc  Class\n",
              "0  Mcg   Gvh   Alm   Mit   Erl   Pox   Vac   Nuc  Class"
            ]
          },
          "metadata": {
            "tags": []
          },
          "execution_count": 9
        }
      ]
    },
    {
      "cell_type": "code",
      "metadata": {
        "id": "PV_RC3kn4dyX"
      },
      "source": [
        "# Dropping the first row of the dataset\n",
        "data.drop(data.index[:1], inplace=True)"
      ],
      "execution_count": null,
      "outputs": []
    },
    {
      "cell_type": "code",
      "metadata": {
        "colab": {
          "base_uri": "https://localhost:8080/",
          "height": 402
        },
        "id": "pGxG0juY6JJP",
        "outputId": "ee4b73d1-09a3-42b6-a083-07a04f87b118"
      },
      "source": [
        "data"
      ],
      "execution_count": null,
      "outputs": [
        {
          "output_type": "execute_result",
          "data": {
            "text/html": [
              "<div>\n",
              "<style scoped>\n",
              "    .dataframe tbody tr th:only-of-type {\n",
              "        vertical-align: middle;\n",
              "    }\n",
              "\n",
              "    .dataframe tbody tr th {\n",
              "        vertical-align: top;\n",
              "    }\n",
              "\n",
              "    .dataframe thead th {\n",
              "        text-align: right;\n",
              "    }\n",
              "</style>\n",
              "<table border=\"1\" class=\"dataframe\">\n",
              "  <thead>\n",
              "    <tr style=\"text-align: right;\">\n",
              "      <th></th>\n",
              "      <th>Mcg</th>\n",
              "      <th>Gvh</th>\n",
              "      <th>Alm</th>\n",
              "      <th>Mit</th>\n",
              "      <th>Erl</th>\n",
              "      <th>Pox</th>\n",
              "      <th>Vac</th>\n",
              "      <th>Nuc</th>\n",
              "      <th>Class</th>\n",
              "    </tr>\n",
              "  </thead>\n",
              "  <tbody>\n",
              "    <tr>\n",
              "      <th>1</th>\n",
              "      <td>0.64</td>\n",
              "      <td>0.62</td>\n",
              "      <td>0.49</td>\n",
              "      <td>0.15</td>\n",
              "      <td>0.5</td>\n",
              "      <td>0</td>\n",
              "      <td>0.53</td>\n",
              "      <td>0.22</td>\n",
              "      <td>negative</td>\n",
              "    </tr>\n",
              "    <tr>\n",
              "      <th>2</th>\n",
              "      <td>0.58</td>\n",
              "      <td>0.44</td>\n",
              "      <td>0.57</td>\n",
              "      <td>0.13</td>\n",
              "      <td>0.5</td>\n",
              "      <td>0</td>\n",
              "      <td>0.54</td>\n",
              "      <td>0.22</td>\n",
              "      <td>negative</td>\n",
              "    </tr>\n",
              "    <tr>\n",
              "      <th>3</th>\n",
              "      <td>0.42</td>\n",
              "      <td>0.44</td>\n",
              "      <td>0.48</td>\n",
              "      <td>0.54</td>\n",
              "      <td>0.5</td>\n",
              "      <td>0</td>\n",
              "      <td>0.48</td>\n",
              "      <td>0.22</td>\n",
              "      <td>negative</td>\n",
              "    </tr>\n",
              "    <tr>\n",
              "      <th>4</th>\n",
              "      <td>0.51</td>\n",
              "      <td>0.4</td>\n",
              "      <td>0.56</td>\n",
              "      <td>0.17</td>\n",
              "      <td>0.5</td>\n",
              "      <td>0.5</td>\n",
              "      <td>0.49</td>\n",
              "      <td>0.22</td>\n",
              "      <td>negative</td>\n",
              "    </tr>\n",
              "    <tr>\n",
              "      <th>5</th>\n",
              "      <td>0.5</td>\n",
              "      <td>0.54</td>\n",
              "      <td>0.48</td>\n",
              "      <td>0.65</td>\n",
              "      <td>0.5</td>\n",
              "      <td>0</td>\n",
              "      <td>0.53</td>\n",
              "      <td>0.22</td>\n",
              "      <td>negative</td>\n",
              "    </tr>\n",
              "    <tr>\n",
              "      <th>...</th>\n",
              "      <td>...</td>\n",
              "      <td>...</td>\n",
              "      <td>...</td>\n",
              "      <td>...</td>\n",
              "      <td>...</td>\n",
              "      <td>...</td>\n",
              "      <td>...</td>\n",
              "      <td>...</td>\n",
              "      <td>...</td>\n",
              "    </tr>\n",
              "    <tr>\n",
              "      <th>1480</th>\n",
              "      <td>0.77</td>\n",
              "      <td>0.74</td>\n",
              "      <td>0.37</td>\n",
              "      <td>0.29</td>\n",
              "      <td>0.5</td>\n",
              "      <td>0</td>\n",
              "      <td>0.45</td>\n",
              "      <td>0.22</td>\n",
              "      <td>negative</td>\n",
              "    </tr>\n",
              "    <tr>\n",
              "      <th>1481</th>\n",
              "      <td>0.74</td>\n",
              "      <td>0.75</td>\n",
              "      <td>0.45</td>\n",
              "      <td>0.44</td>\n",
              "      <td>0.5</td>\n",
              "      <td>0</td>\n",
              "      <td>0.52</td>\n",
              "      <td>0.22</td>\n",
              "      <td>negative</td>\n",
              "    </tr>\n",
              "    <tr>\n",
              "      <th>1482</th>\n",
              "      <td>0.32</td>\n",
              "      <td>0.29</td>\n",
              "      <td>0.29</td>\n",
              "      <td>0.08</td>\n",
              "      <td>0.5</td>\n",
              "      <td>0</td>\n",
              "      <td>0.52</td>\n",
              "      <td>0.22</td>\n",
              "      <td>positive</td>\n",
              "    </tr>\n",
              "    <tr>\n",
              "      <th>1483</th>\n",
              "      <td>0.38</td>\n",
              "      <td>0.48</td>\n",
              "      <td>0.57</td>\n",
              "      <td>0.3</td>\n",
              "      <td>0.5</td>\n",
              "      <td>0</td>\n",
              "      <td>0.41</td>\n",
              "      <td>0.11</td>\n",
              "      <td>negative</td>\n",
              "    </tr>\n",
              "    <tr>\n",
              "      <th>1484</th>\n",
              "      <td>0.43</td>\n",
              "      <td>0.4</td>\n",
              "      <td>0.6</td>\n",
              "      <td>0.16</td>\n",
              "      <td>0.5</td>\n",
              "      <td>0</td>\n",
              "      <td>0.53</td>\n",
              "      <td>0.39</td>\n",
              "      <td>negative</td>\n",
              "    </tr>\n",
              "  </tbody>\n",
              "</table>\n",
              "<p>1484 rows × 9 columns</p>\n",
              "</div>"
            ],
            "text/plain": [
              "       Mcg   Gvh   Alm   Mit  Erl  Pox   Vac   Nuc      Class\n",
              "1     0.64  0.62  0.49  0.15  0.5    0  0.53  0.22   negative\n",
              "2     0.58  0.44  0.57  0.13  0.5    0  0.54  0.22   negative\n",
              "3     0.42  0.44  0.48  0.54  0.5    0  0.48  0.22   negative\n",
              "4     0.51   0.4  0.56  0.17  0.5  0.5  0.49  0.22   negative\n",
              "5      0.5  0.54  0.48  0.65  0.5    0  0.53  0.22   negative\n",
              "...    ...   ...   ...   ...  ...  ...   ...   ...        ...\n",
              "1480  0.77  0.74  0.37  0.29  0.5    0  0.45  0.22   negative\n",
              "1481  0.74  0.75  0.45  0.44  0.5    0  0.52  0.22   negative\n",
              "1482  0.32  0.29  0.29  0.08  0.5    0  0.52  0.22   positive\n",
              "1483  0.38  0.48  0.57   0.3  0.5    0  0.41  0.11   negative\n",
              "1484  0.43   0.4   0.6  0.16  0.5    0  0.53  0.39   negative\n",
              "\n",
              "[1484 rows x 9 columns]"
            ]
          },
          "metadata": {
            "tags": []
          },
          "execution_count": 11
        }
      ]
    },
    {
      "cell_type": "code",
      "metadata": {
        "colab": {
          "base_uri": "https://localhost:8080/"
        },
        "id": "CWk1pKd26WsO",
        "outputId": "c9f79ca6-1523-4438-de0d-a9cec64fe237"
      },
      "source": [
        "data.dtypes"
      ],
      "execution_count": null,
      "outputs": [
        {
          "output_type": "execute_result",
          "data": {
            "text/plain": [
              "Mcg      object\n",
              "Gvh      object\n",
              "Alm      object\n",
              "Mit      object\n",
              "Erl      object\n",
              "Pox      object\n",
              "Vac      object\n",
              "Nuc      object\n",
              "Class    object\n",
              "dtype: object"
            ]
          },
          "metadata": {
            "tags": []
          },
          "execution_count": 12
        }
      ]
    },
    {
      "cell_type": "code",
      "metadata": {
        "id": "g4tBp5PQ8zuk"
      },
      "source": [
        "from sklearn.preprocessing import LabelEncoder"
      ],
      "execution_count": null,
      "outputs": []
    },
    {
      "cell_type": "code",
      "metadata": {
        "colab": {
          "base_uri": "https://localhost:8080/",
          "height": 402
        },
        "id": "Jo_6t2AWI1yJ",
        "outputId": "8a287ee8-d0d2-4488-8afb-6e42dad96258"
      },
      "source": [
        "# Encoding the Class Column:\n",
        "\n",
        "labelencoder = LabelEncoder()\n",
        "\n",
        "#Assigning numerical values and stroing it another column called Class_Numerical\n",
        "\n",
        "data[\"Class_Numerical\"]= labelencoder.fit_transform(data[\"Class\"])\n",
        "\n",
        "# Display new DataFrame:\n",
        "\n",
        "data"
      ],
      "execution_count": null,
      "outputs": [
        {
          "output_type": "execute_result",
          "data": {
            "text/html": [
              "<div>\n",
              "<style scoped>\n",
              "    .dataframe tbody tr th:only-of-type {\n",
              "        vertical-align: middle;\n",
              "    }\n",
              "\n",
              "    .dataframe tbody tr th {\n",
              "        vertical-align: top;\n",
              "    }\n",
              "\n",
              "    .dataframe thead th {\n",
              "        text-align: right;\n",
              "    }\n",
              "</style>\n",
              "<table border=\"1\" class=\"dataframe\">\n",
              "  <thead>\n",
              "    <tr style=\"text-align: right;\">\n",
              "      <th></th>\n",
              "      <th>Mcg</th>\n",
              "      <th>Gvh</th>\n",
              "      <th>Alm</th>\n",
              "      <th>Mit</th>\n",
              "      <th>Erl</th>\n",
              "      <th>Pox</th>\n",
              "      <th>Vac</th>\n",
              "      <th>Nuc</th>\n",
              "      <th>Class</th>\n",
              "      <th>Class_Numerical</th>\n",
              "    </tr>\n",
              "  </thead>\n",
              "  <tbody>\n",
              "    <tr>\n",
              "      <th>1</th>\n",
              "      <td>0.64</td>\n",
              "      <td>0.62</td>\n",
              "      <td>0.49</td>\n",
              "      <td>0.15</td>\n",
              "      <td>0.5</td>\n",
              "      <td>0</td>\n",
              "      <td>0.53</td>\n",
              "      <td>0.22</td>\n",
              "      <td>negative</td>\n",
              "      <td>0</td>\n",
              "    </tr>\n",
              "    <tr>\n",
              "      <th>2</th>\n",
              "      <td>0.58</td>\n",
              "      <td>0.44</td>\n",
              "      <td>0.57</td>\n",
              "      <td>0.13</td>\n",
              "      <td>0.5</td>\n",
              "      <td>0</td>\n",
              "      <td>0.54</td>\n",
              "      <td>0.22</td>\n",
              "      <td>negative</td>\n",
              "      <td>0</td>\n",
              "    </tr>\n",
              "    <tr>\n",
              "      <th>3</th>\n",
              "      <td>0.42</td>\n",
              "      <td>0.44</td>\n",
              "      <td>0.48</td>\n",
              "      <td>0.54</td>\n",
              "      <td>0.5</td>\n",
              "      <td>0</td>\n",
              "      <td>0.48</td>\n",
              "      <td>0.22</td>\n",
              "      <td>negative</td>\n",
              "      <td>0</td>\n",
              "    </tr>\n",
              "    <tr>\n",
              "      <th>4</th>\n",
              "      <td>0.51</td>\n",
              "      <td>0.4</td>\n",
              "      <td>0.56</td>\n",
              "      <td>0.17</td>\n",
              "      <td>0.5</td>\n",
              "      <td>0.5</td>\n",
              "      <td>0.49</td>\n",
              "      <td>0.22</td>\n",
              "      <td>negative</td>\n",
              "      <td>0</td>\n",
              "    </tr>\n",
              "    <tr>\n",
              "      <th>5</th>\n",
              "      <td>0.5</td>\n",
              "      <td>0.54</td>\n",
              "      <td>0.48</td>\n",
              "      <td>0.65</td>\n",
              "      <td>0.5</td>\n",
              "      <td>0</td>\n",
              "      <td>0.53</td>\n",
              "      <td>0.22</td>\n",
              "      <td>negative</td>\n",
              "      <td>0</td>\n",
              "    </tr>\n",
              "    <tr>\n",
              "      <th>...</th>\n",
              "      <td>...</td>\n",
              "      <td>...</td>\n",
              "      <td>...</td>\n",
              "      <td>...</td>\n",
              "      <td>...</td>\n",
              "      <td>...</td>\n",
              "      <td>...</td>\n",
              "      <td>...</td>\n",
              "      <td>...</td>\n",
              "      <td>...</td>\n",
              "    </tr>\n",
              "    <tr>\n",
              "      <th>1480</th>\n",
              "      <td>0.77</td>\n",
              "      <td>0.74</td>\n",
              "      <td>0.37</td>\n",
              "      <td>0.29</td>\n",
              "      <td>0.5</td>\n",
              "      <td>0</td>\n",
              "      <td>0.45</td>\n",
              "      <td>0.22</td>\n",
              "      <td>negative</td>\n",
              "      <td>0</td>\n",
              "    </tr>\n",
              "    <tr>\n",
              "      <th>1481</th>\n",
              "      <td>0.74</td>\n",
              "      <td>0.75</td>\n",
              "      <td>0.45</td>\n",
              "      <td>0.44</td>\n",
              "      <td>0.5</td>\n",
              "      <td>0</td>\n",
              "      <td>0.52</td>\n",
              "      <td>0.22</td>\n",
              "      <td>negative</td>\n",
              "      <td>0</td>\n",
              "    </tr>\n",
              "    <tr>\n",
              "      <th>1482</th>\n",
              "      <td>0.32</td>\n",
              "      <td>0.29</td>\n",
              "      <td>0.29</td>\n",
              "      <td>0.08</td>\n",
              "      <td>0.5</td>\n",
              "      <td>0</td>\n",
              "      <td>0.52</td>\n",
              "      <td>0.22</td>\n",
              "      <td>positive</td>\n",
              "      <td>1</td>\n",
              "    </tr>\n",
              "    <tr>\n",
              "      <th>1483</th>\n",
              "      <td>0.38</td>\n",
              "      <td>0.48</td>\n",
              "      <td>0.57</td>\n",
              "      <td>0.3</td>\n",
              "      <td>0.5</td>\n",
              "      <td>0</td>\n",
              "      <td>0.41</td>\n",
              "      <td>0.11</td>\n",
              "      <td>negative</td>\n",
              "      <td>0</td>\n",
              "    </tr>\n",
              "    <tr>\n",
              "      <th>1484</th>\n",
              "      <td>0.43</td>\n",
              "      <td>0.4</td>\n",
              "      <td>0.6</td>\n",
              "      <td>0.16</td>\n",
              "      <td>0.5</td>\n",
              "      <td>0</td>\n",
              "      <td>0.53</td>\n",
              "      <td>0.39</td>\n",
              "      <td>negative</td>\n",
              "      <td>0</td>\n",
              "    </tr>\n",
              "  </tbody>\n",
              "</table>\n",
              "<p>1484 rows × 10 columns</p>\n",
              "</div>"
            ],
            "text/plain": [
              "       Mcg   Gvh   Alm   Mit  Erl  Pox   Vac   Nuc      Class  Class_Numerical\n",
              "1     0.64  0.62  0.49  0.15  0.5    0  0.53  0.22   negative                0\n",
              "2     0.58  0.44  0.57  0.13  0.5    0  0.54  0.22   negative                0\n",
              "3     0.42  0.44  0.48  0.54  0.5    0  0.48  0.22   negative                0\n",
              "4     0.51   0.4  0.56  0.17  0.5  0.5  0.49  0.22   negative                0\n",
              "5      0.5  0.54  0.48  0.65  0.5    0  0.53  0.22   negative                0\n",
              "...    ...   ...   ...   ...  ...  ...   ...   ...        ...              ...\n",
              "1480  0.77  0.74  0.37  0.29  0.5    0  0.45  0.22   negative                0\n",
              "1481  0.74  0.75  0.45  0.44  0.5    0  0.52  0.22   negative                0\n",
              "1482  0.32  0.29  0.29  0.08  0.5    0  0.52  0.22   positive                1\n",
              "1483  0.38  0.48  0.57   0.3  0.5    0  0.41  0.11   negative                0\n",
              "1484  0.43   0.4   0.6  0.16  0.5    0  0.53  0.39   negative                0\n",
              "\n",
              "[1484 rows x 10 columns]"
            ]
          },
          "metadata": {
            "tags": []
          },
          "execution_count": 14
        }
      ]
    },
    {
      "cell_type": "code",
      "metadata": {
        "colab": {
          "base_uri": "https://localhost:8080/"
        },
        "id": "UdF11iB0KH6i",
        "outputId": "701aa46b-8140-4fae-a006-24cef4d0130d"
      },
      "source": [
        "data.dtypes"
      ],
      "execution_count": null,
      "outputs": [
        {
          "output_type": "execute_result",
          "data": {
            "text/plain": [
              "Mcg                object\n",
              "Gvh                object\n",
              "Alm                object\n",
              "Mit                object\n",
              "Erl                object\n",
              "Pox                object\n",
              "Vac                object\n",
              "Nuc                object\n",
              "Class              object\n",
              "Class_Numerical     int64\n",
              "dtype: object"
            ]
          },
          "metadata": {
            "tags": []
          },
          "execution_count": 15
        }
      ]
    },
    {
      "cell_type": "code",
      "metadata": {
        "id": "0KzA1rHkKMGv"
      },
      "source": [
        "# Converted the columns from Object to int/float\n",
        "\n",
        "data[\"Mcg\"] = data['Mcg'].astype('float')\n",
        "data[\"Gvh\"] = data['Gvh'].astype('float')\n",
        "data[\"Alm\"] = data['Alm'].astype('float')\n",
        "data[\"Mit\"] = data['Mit'].astype('float')\n",
        "data[\"Erl\"] = data['Erl'].astype('float')\n",
        "data[\"Pox\"] = data['Pox'].astype('float')\n",
        "data[\"Vac\"] = data['Vac'].astype('float')\n",
        "data[\"Nuc\"] = data['Nuc'].astype('float')"
      ],
      "execution_count": null,
      "outputs": []
    },
    {
      "cell_type": "code",
      "metadata": {
        "colab": {
          "base_uri": "https://localhost:8080/"
        },
        "id": "Esc7b4jZMdA7",
        "outputId": "717dd16e-0690-4a5d-c328-38bc3043b405"
      },
      "source": [
        "data.dtypes"
      ],
      "execution_count": null,
      "outputs": [
        {
          "output_type": "execute_result",
          "data": {
            "text/plain": [
              "Mcg                float64\n",
              "Gvh                float64\n",
              "Alm                float64\n",
              "Mit                float64\n",
              "Erl                float64\n",
              "Pox                float64\n",
              "Vac                float64\n",
              "Nuc                float64\n",
              "Class               object\n",
              "Class_Numerical      int64\n",
              "dtype: object"
            ]
          },
          "metadata": {
            "tags": []
          },
          "execution_count": 17
        }
      ]
    },
    {
      "cell_type": "code",
      "metadata": {
        "id": "8LgdpcKWMjMP"
      },
      "source": [
        "data.drop(columns='Class',axis=1,inplace=True)"
      ],
      "execution_count": null,
      "outputs": []
    },
    {
      "cell_type": "code",
      "metadata": {
        "colab": {
          "base_uri": "https://localhost:8080/",
          "height": 402
        },
        "id": "XQV_R9jFMumo",
        "outputId": "65b09083-9681-47c3-d338-288dd14b7ff3"
      },
      "source": [
        "data"
      ],
      "execution_count": null,
      "outputs": [
        {
          "output_type": "execute_result",
          "data": {
            "text/html": [
              "<div>\n",
              "<style scoped>\n",
              "    .dataframe tbody tr th:only-of-type {\n",
              "        vertical-align: middle;\n",
              "    }\n",
              "\n",
              "    .dataframe tbody tr th {\n",
              "        vertical-align: top;\n",
              "    }\n",
              "\n",
              "    .dataframe thead th {\n",
              "        text-align: right;\n",
              "    }\n",
              "</style>\n",
              "<table border=\"1\" class=\"dataframe\">\n",
              "  <thead>\n",
              "    <tr style=\"text-align: right;\">\n",
              "      <th></th>\n",
              "      <th>Mcg</th>\n",
              "      <th>Gvh</th>\n",
              "      <th>Alm</th>\n",
              "      <th>Mit</th>\n",
              "      <th>Erl</th>\n",
              "      <th>Pox</th>\n",
              "      <th>Vac</th>\n",
              "      <th>Nuc</th>\n",
              "      <th>Class_Numerical</th>\n",
              "    </tr>\n",
              "  </thead>\n",
              "  <tbody>\n",
              "    <tr>\n",
              "      <th>1</th>\n",
              "      <td>0.64</td>\n",
              "      <td>0.62</td>\n",
              "      <td>0.49</td>\n",
              "      <td>0.15</td>\n",
              "      <td>0.5</td>\n",
              "      <td>0.0</td>\n",
              "      <td>0.53</td>\n",
              "      <td>0.22</td>\n",
              "      <td>0</td>\n",
              "    </tr>\n",
              "    <tr>\n",
              "      <th>2</th>\n",
              "      <td>0.58</td>\n",
              "      <td>0.44</td>\n",
              "      <td>0.57</td>\n",
              "      <td>0.13</td>\n",
              "      <td>0.5</td>\n",
              "      <td>0.0</td>\n",
              "      <td>0.54</td>\n",
              "      <td>0.22</td>\n",
              "      <td>0</td>\n",
              "    </tr>\n",
              "    <tr>\n",
              "      <th>3</th>\n",
              "      <td>0.42</td>\n",
              "      <td>0.44</td>\n",
              "      <td>0.48</td>\n",
              "      <td>0.54</td>\n",
              "      <td>0.5</td>\n",
              "      <td>0.0</td>\n",
              "      <td>0.48</td>\n",
              "      <td>0.22</td>\n",
              "      <td>0</td>\n",
              "    </tr>\n",
              "    <tr>\n",
              "      <th>4</th>\n",
              "      <td>0.51</td>\n",
              "      <td>0.40</td>\n",
              "      <td>0.56</td>\n",
              "      <td>0.17</td>\n",
              "      <td>0.5</td>\n",
              "      <td>0.5</td>\n",
              "      <td>0.49</td>\n",
              "      <td>0.22</td>\n",
              "      <td>0</td>\n",
              "    </tr>\n",
              "    <tr>\n",
              "      <th>5</th>\n",
              "      <td>0.50</td>\n",
              "      <td>0.54</td>\n",
              "      <td>0.48</td>\n",
              "      <td>0.65</td>\n",
              "      <td>0.5</td>\n",
              "      <td>0.0</td>\n",
              "      <td>0.53</td>\n",
              "      <td>0.22</td>\n",
              "      <td>0</td>\n",
              "    </tr>\n",
              "    <tr>\n",
              "      <th>...</th>\n",
              "      <td>...</td>\n",
              "      <td>...</td>\n",
              "      <td>...</td>\n",
              "      <td>...</td>\n",
              "      <td>...</td>\n",
              "      <td>...</td>\n",
              "      <td>...</td>\n",
              "      <td>...</td>\n",
              "      <td>...</td>\n",
              "    </tr>\n",
              "    <tr>\n",
              "      <th>1480</th>\n",
              "      <td>0.77</td>\n",
              "      <td>0.74</td>\n",
              "      <td>0.37</td>\n",
              "      <td>0.29</td>\n",
              "      <td>0.5</td>\n",
              "      <td>0.0</td>\n",
              "      <td>0.45</td>\n",
              "      <td>0.22</td>\n",
              "      <td>0</td>\n",
              "    </tr>\n",
              "    <tr>\n",
              "      <th>1481</th>\n",
              "      <td>0.74</td>\n",
              "      <td>0.75</td>\n",
              "      <td>0.45</td>\n",
              "      <td>0.44</td>\n",
              "      <td>0.5</td>\n",
              "      <td>0.0</td>\n",
              "      <td>0.52</td>\n",
              "      <td>0.22</td>\n",
              "      <td>0</td>\n",
              "    </tr>\n",
              "    <tr>\n",
              "      <th>1482</th>\n",
              "      <td>0.32</td>\n",
              "      <td>0.29</td>\n",
              "      <td>0.29</td>\n",
              "      <td>0.08</td>\n",
              "      <td>0.5</td>\n",
              "      <td>0.0</td>\n",
              "      <td>0.52</td>\n",
              "      <td>0.22</td>\n",
              "      <td>1</td>\n",
              "    </tr>\n",
              "    <tr>\n",
              "      <th>1483</th>\n",
              "      <td>0.38</td>\n",
              "      <td>0.48</td>\n",
              "      <td>0.57</td>\n",
              "      <td>0.30</td>\n",
              "      <td>0.5</td>\n",
              "      <td>0.0</td>\n",
              "      <td>0.41</td>\n",
              "      <td>0.11</td>\n",
              "      <td>0</td>\n",
              "    </tr>\n",
              "    <tr>\n",
              "      <th>1484</th>\n",
              "      <td>0.43</td>\n",
              "      <td>0.40</td>\n",
              "      <td>0.60</td>\n",
              "      <td>0.16</td>\n",
              "      <td>0.5</td>\n",
              "      <td>0.0</td>\n",
              "      <td>0.53</td>\n",
              "      <td>0.39</td>\n",
              "      <td>0</td>\n",
              "    </tr>\n",
              "  </tbody>\n",
              "</table>\n",
              "<p>1484 rows × 9 columns</p>\n",
              "</div>"
            ],
            "text/plain": [
              "       Mcg   Gvh   Alm   Mit  Erl  Pox   Vac   Nuc  Class_Numerical\n",
              "1     0.64  0.62  0.49  0.15  0.5  0.0  0.53  0.22                0\n",
              "2     0.58  0.44  0.57  0.13  0.5  0.0  0.54  0.22                0\n",
              "3     0.42  0.44  0.48  0.54  0.5  0.0  0.48  0.22                0\n",
              "4     0.51  0.40  0.56  0.17  0.5  0.5  0.49  0.22                0\n",
              "5     0.50  0.54  0.48  0.65  0.5  0.0  0.53  0.22                0\n",
              "...    ...   ...   ...   ...  ...  ...   ...   ...              ...\n",
              "1480  0.77  0.74  0.37  0.29  0.5  0.0  0.45  0.22                0\n",
              "1481  0.74  0.75  0.45  0.44  0.5  0.0  0.52  0.22                0\n",
              "1482  0.32  0.29  0.29  0.08  0.5  0.0  0.52  0.22                1\n",
              "1483  0.38  0.48  0.57  0.30  0.5  0.0  0.41  0.11                0\n",
              "1484  0.43  0.40  0.60  0.16  0.5  0.0  0.53  0.39                0\n",
              "\n",
              "[1484 rows x 9 columns]"
            ]
          },
          "metadata": {
            "tags": []
          },
          "execution_count": 19
        }
      ]
    },
    {
      "cell_type": "code",
      "metadata": {
        "colab": {
          "base_uri": "https://localhost:8080/"
        },
        "id": "YSL7KhwEMvMw",
        "outputId": "ca9b1d84-6564-4039-99f7-31608420d583"
      },
      "source": [
        "data.dtypes"
      ],
      "execution_count": null,
      "outputs": [
        {
          "output_type": "execute_result",
          "data": {
            "text/plain": [
              "Mcg                float64\n",
              "Gvh                float64\n",
              "Alm                float64\n",
              "Mit                float64\n",
              "Erl                float64\n",
              "Pox                float64\n",
              "Vac                float64\n",
              "Nuc                float64\n",
              "Class_Numerical      int64\n",
              "dtype: object"
            ]
          },
          "metadata": {
            "tags": []
          },
          "execution_count": 20
        }
      ]
    },
    {
      "cell_type": "code",
      "metadata": {
        "colab": {
          "base_uri": "https://localhost:8080/"
        },
        "id": "fjyfHg4sMxx7",
        "outputId": "b1cb590b-9337-499a-a013-0d70980f4ae4"
      },
      "source": [
        "data.value_counts(data[\"Class_Numerical\"])"
      ],
      "execution_count": null,
      "outputs": [
        {
          "output_type": "execute_result",
          "data": {
            "text/plain": [
              "Class_Numerical\n",
              "0    1321\n",
              "1     163\n",
              "dtype: int64"
            ]
          },
          "metadata": {
            "tags": []
          },
          "execution_count": 21
        }
      ]
    },
    {
      "cell_type": "code",
      "metadata": {
        "colab": {
          "base_uri": "https://localhost:8080/",
          "height": 297
        },
        "id": "XR9OF-aubl7S",
        "outputId": "ac9d0b95-8549-404b-a093-826fb74ae8a4"
      },
      "source": [
        "import seaborn as sns\n",
        "sns.countplot(\"Class_Numerical\",data=data)"
      ],
      "execution_count": null,
      "outputs": [
        {
          "output_type": "execute_result",
          "data": {
            "text/plain": [
              "<matplotlib.axes._subplots.AxesSubplot at 0x7f34be326b90>"
            ]
          },
          "metadata": {
            "tags": []
          },
          "execution_count": 22
        },
        {
          "output_type": "display_data",
          "data": {
            "image/png": "[encoded data removed]",
            "text/plain": [
              "<Figure size 432x288 with 1 Axes>"
            ]
          },
          "metadata": {
            "tags": [],
            "needs_background": "light"
          }
        }
      ]
    },
    {
      "cell_type": "code",
      "metadata": {
        "colab": {
          "base_uri": "https://localhost:8080/"
        },
        "id": "Kd2lD9krU026",
        "outputId": "6e0ab4c3-964a-4563-d7be-c61198d2c212"
      },
      "source": [
        "# Copying the dataset for safety purpose\n",
        "\n",
        "copy_data= data\n",
        "\n",
        "print(copy_data.head())\n",
        "print(type(copy_data))"
      ],
      "execution_count": null,
      "outputs": [
        {
          "output_type": "stream",
          "text": [
            "    Mcg   Gvh   Alm   Mit  Erl  Pox   Vac   Nuc  Class_Numerical\n",
            "1  0.64  0.62  0.49  0.15  0.5  0.0  0.53  0.22                0\n",
            "2  0.58  0.44  0.57  0.13  0.5  0.0  0.54  0.22                0\n",
            "3  0.42  0.44  0.48  0.54  0.5  0.0  0.48  0.22                0\n",
            "4  0.51  0.40  0.56  0.17  0.5  0.5  0.49  0.22                0\n",
            "5  0.50  0.54  0.48  0.65  0.5  0.0  0.53  0.22                0\n",
            "<class 'pandas.core.frame.DataFrame'>\n"
          ],
          "name": "stdout"
        }
      ]
    },
    {
      "cell_type": "code",
      "metadata": {
        "colab": {
          "base_uri": "https://localhost:8080/"
        },
        "id": "RCAR3bqKRB4t",
        "outputId": "7e0d4a4b-5808-44ed-d566-2532264878ef"
      },
      "source": [
        "pip install modAL"
      ],
      "execution_count": null,
      "outputs": [
        {
          "output_type": "stream",
          "text": [
            "Collecting modAL\n",
            "  Downloading https://files.pythonhosted.org/packages/76/63/fe3eea804b180ef85b07d4e99cd932d2b0f79db91ff31391b1d465943aa1/modAL-0.4.1-py3-none-any.whl\n",
            "Requirement already satisfied: scikit-learn>=0.18 in /usr/local/lib/python3.7/dist-packages (from modAL) (0.22.2.post1)\n",
            "Requirement already satisfied: pandas>=1.1.0 in /usr/local/lib/python3.7/dist-packages (from modAL) (1.1.5)\n",
            "Requirement already satisfied: scipy>=0.18 in /usr/local/lib/python3.7/dist-packages (from modAL) (1.4.1)\n",
            "Requirement already satisfied: numpy>=1.13 in /usr/local/lib/python3.7/dist-packages (from modAL) (1.19.5)\n",
            "Requirement already satisfied: joblib>=0.11 in /usr/local/lib/python3.7/dist-packages (from scikit-learn>=0.18->modAL) (1.0.1)\n",
            "Requirement already satisfied: pytz>=2017.2 in /usr/local/lib/python3.7/dist-packages (from pandas>=1.1.0->modAL) (2018.9)\n",
            "Requirement already satisfied: python-dateutil>=2.7.3 in /usr/local/lib/python3.7/dist-packages (from pandas>=1.1.0->modAL) (2.8.1)\n",
            "Requirement already satisfied: six>=1.5 in /usr/local/lib/python3.7/dist-packages (from python-dateutil>=2.7.3->pandas>=1.1.0->modAL) (1.15.0)\n",
            "Installing collected packages: modAL\n",
            "Successfully installed modAL-0.4.1\n"
          ],
          "name": "stdout"
        }
      ]
    },
    {
      "cell_type": "code",
      "metadata": {
        "id": "fNei0oceOCCM"
      },
      "source": [
        "# Importing all Required modules\n",
        "import warnings\n",
        "warnings.filterwarnings(\"ignore\")\n",
        "from sklearn.decomposition import PCA\n",
        "import matplotlib as mpl\n",
        "from sklearn.neighbors import KNeighborsClassifier\n",
        "from sklearn.tree import DecisionTreeClassifier\n",
        "from functools import partial\n",
        "#from modAL.batch import uncertainty_batch_sampling\n",
        "from modAL.batch import uncertainty_batch_sampling, ranked_batch\n",
        "from modAL.models import ActiveLearner,Committee\n",
        "from sklearn.metrics import classification_report\n",
        "import numpy as np\n",
        "import pandas as pd\n",
        "from sklearn.neighbors import LocalOutlierFactor\n",
        "from numpy import quantile, where, random\n",
        "import matplotlib.pyplot as plt\n",
        "from sklearn.metrics import confusion_matrix\n",
        "from sklearn import tree\n",
        "from sklearn.ensemble import RandomForestClassifier\n",
        "from sklearn.svm import OneClassSVM\n",
        "from sklearn.model_selection import train_test_split\n",
        "from sklearn.metrics import roc_auc_score\n",
        "import matplotlib as mpl\n",
        "import matplotlib.pyplot as plt\n",
        "from sklearn.feature_selection import RFE\n",
        "from sklearn.metrics import f1_score\n",
        "from sklearn.metrics import recall_score\n",
        "import math\n",
        "from imblearn.over_sampling import SMOTE\n",
        "from imblearn.over_sampling import ADASYN\n",
        "from imblearn.over_sampling import RandomOverSampler\n",
        "from sklearn.ensemble import IsolationForest\n"
      ],
      "execution_count": null,
      "outputs": []
    },
    {
      "cell_type": "code",
      "metadata": {
        "id": "LW1FWk79Q_bt"
      },
      "source": [
        "def feature_selection(dataset,targets):\n",
        "  \"\"\"\n",
        "  :param dataset: dataframe object containing all records of features\n",
        "  :param targets: dataframe object of target values corresponding to dataset\n",
        "  :return: returns new dataset with mentioned number of features\n",
        "  \"\"\"\n",
        "  number_of_features = int(input(\"Total Number of features \"+str(dataset.shape[1])+\" , Enter number of best features needed:- \"))\n",
        "  selector = RFE(estimator=DecisionTreeClassifier(), n_features_to_select=number_of_features, step=1)\n",
        "  selector.fit(dataset, targets)\n",
        "  new_dataset = selector.transform(dataset)\n",
        "  \n",
        "  return pd.DataFrame(new_dataset)\n"
      ],
      "execution_count": null,
      "outputs": []
    },
    {
      "cell_type": "code",
      "metadata": {
        "id": "KkrY4g2kTMK-"
      },
      "source": [
        "def Lof(data,number_of_top_outliers):\n",
        "  \"\"\"\n",
        "  :param data: features values\n",
        "  :param number_of_top_outliers: number of top ranked outliers\n",
        "  :return: all top n outliers indices of data.\n",
        "  \"\"\"\n",
        "  clf = LocalOutlierFactor(n_neighbors=2)\n",
        "  y_pred = clf.fit_predict(data)\n",
        "  score = clf.negative_outlier_factor_\n",
        "  # very small number --> more the outlier\n",
        "  # eg: -40000 --> outlier\n",
        "  # -1.2  --> Not Outlier\n",
        "  top_outlier_indices = score.argsort()[:number_of_top_outliers]\n",
        "  return top_outlier_indices\n"
      ],
      "execution_count": null,
      "outputs": []
    },
    {
      "cell_type": "code",
      "metadata": {
        "id": "pgS50QTrTnAG"
      },
      "source": [
        "def OneClassSVMOutlier(data,number_of_top_outliers):\n",
        "  \"\"\"\n",
        "  :param data: features values\n",
        "  :param number_of_top_outliers: number of top ranked outliers\n",
        "  :return: all top n outliers indices of data.\n",
        "  \"\"\"\n",
        "  clf = OneClassSVM(gamma='auto')\n",
        "  y_pred = clf.fit_predict(data)\n",
        "  score = clf.score_samples(data)\n",
        "  # very small number --> more the outlier\n",
        "  # eg: -40000 --> outlier\n",
        "  # -1.2  --> Not Outlier\n",
        "  top_outlier_indices = score.argsort()[:number_of_top_outliers]\n",
        "  return top_outlier_indices\n"
      ],
      "execution_count": null,
      "outputs": []
    },
    {
      "cell_type": "code",
      "metadata": {
        "id": "_fJJZxfgTzr4"
      },
      "source": [
        "def IForest(data,number_of_top_outliers):\n",
        "  \"\"\"\n",
        "  :param data: features values\n",
        "  :param number_of_top_outliers: number of top ranked outliers\n",
        "  :return: all top n outliers indices of data.\n",
        "  \"\"\"\n",
        "  clf = IsolationForest(random_state=0)\n",
        "  y_pred = clf.fit_predict(data)\n",
        "  score = clf.score_samples(data)\n",
        "  \n",
        "  top_outlier_indices = score.argsort()[:number_of_top_outliers]\n",
        "  return top_outlier_indices\n"
      ],
      "execution_count": null,
      "outputs": []
    },
    {
      "cell_type": "code",
      "metadata": {
        "id": "uoORhkwkUA7f"
      },
      "source": [
        "def plotGraph(performance,type = 'Accuracy'):\n",
        "  \"\"\"\n",
        "  :param performance: list of all performance metric values eg: list of accuracies/AUC/F1 etc\n",
        "  :param type: type of performance metric\n",
        "  :return: None\n",
        "  \"\"\"\n",
        "  # Plot our performance over time.\n",
        "  fig, ax = plt.subplots(figsize=(8.5, 6), dpi=130)\n",
        "  \n",
        "  ax.plot(performance)\n",
        "  ax.scatter(range(len(performance)), performance, s=13)\n",
        "\n",
        "  ax.set_title('Incremental classification '+str(type))\n",
        "  ax.set_xlabel('Query iteration')\n",
        "  ax.set_ylabel('Classification '+str(type))\n",
        "  plt.show()\n"
      ],
      "execution_count": null,
      "outputs": []
    },
    {
      "cell_type": "code",
      "metadata": {
        "colab": {
          "base_uri": "https://localhost:8080/",
          "height": 1000
        },
        "id": "WOi5pRLnUR3W",
        "outputId": "b59c3a48-b3a1-4acb-d0ef-e69b26011b55"
      },
      "source": [
        "# Actice Learning Main Module.\n",
        "\n",
        "if __name__ == '__main__':\n",
        "  \n",
        "  BATCH_SIZE=10\n",
        "  N_RAW_SAMPLES= 100\n",
        "\n",
        "  y_raw= data['Class_Numerical']\n",
        "  X_raw= data.drop('Class_Numerical', axis=1)\n",
        "\n",
        "  # Prompting User to select a feature selection option.\n",
        "  # Upon selecting a valid option, Best features are selected.\n",
        "\n",
        "  print(\"---------------------------------------\")\n",
        "  print(\"Select Feature Selection option\\n1: Recursive Feature Selection\\n2: No Feature Selection\")\n",
        "  fs_option = int(input())\n",
        "  print(\"---------------------------------------\")\n",
        "  if(fs_option == 1):\n",
        "    print(\"Starting Feature Selection using Random Forest\")\n",
        "    X_raw = feature_selection(X_raw, y_raw)\n",
        "\n",
        "  print(\"Shape of data set :\" + str(X_raw.shape))\n",
        "  # converting data from dataframe to ndarray\n",
        "  y_raw = y_raw.values\n",
        "  X_raw = X_raw.values\n",
        "\n",
        "  # batch_data_continous_X,y stores data and adds to it after every iteration of batch\n",
        "  batch_data_continous_X = np.array([]).reshape(0,X_raw.shape[1])\n",
        "  batch_data_continous_y = np.array([]).reshape(0,1)\n",
        "\n",
        "  # Spliting dataset into Train, Pool(for batch) and Test.\n",
        "  print(\"Preparing Initial Training, Pool and Test sets for initial AL\")\n",
        "  X_train, X_test, y_train, y_test = train_test_split(X_raw, y_raw, test_size=0.3, stratify=y_raw)\n",
        "  X_train, X_pool, y_train, y_pool = train_test_split(X_train, y_train, test_size=0.3, stratify=y_train)\n",
        "\n",
        "  print(\"training set size: \"+str(len(X_train)))\n",
        "  print(\"pool set size: \" + str(len(X_pool)))\n",
        "  print(\"test set size: \" + str(len(X_test)))\n",
        "\n",
        "  # lists to store all metric values after each iteration\n",
        "  accuracy_history = []\n",
        "  auc_history = []\n",
        "  f1_minority_history = []\n",
        "  GM_history = []\n",
        "  dt = DecisionTreeClassifier()\n",
        "\n",
        "  # Prompting User to Active Learning Strategy from the list of available options.\n",
        "  # Upon selecting a valid option, it creates batches using Active Learning Strategy provided.\n",
        "  print(\"---------------------------------------\")\n",
        "  print(\"Select Strategy\\n1: Ranked Batch using Uncertainity\\n2: Query By Committee Batch\")\n",
        "  strategy_option = int(input())\n",
        "  print(\"---------------------------------------\")\n",
        "\n",
        "  # Prompting User to provide batch size eg: 10.\n",
        "  print(\"---------------------------------------\")\n",
        "  print(\"Enter Batch Size :(Default is 10)\\n\")\n",
        "  BATCH_SIZE = int(input())\n",
        "  N_RAW_SAMPLES = 10 * BATCH_SIZE\n",
        "  print(\"---------------------------------------\")\n",
        "\n",
        "  # Prompting User to select an outlier detection method from the list of available options.\n",
        "  # Upon selecting a valid option, it gets best outliers for every batch.\n",
        "  print(\"---------------------------------------\")\n",
        "  print(\"Enter Outlier Detection Method\")\n",
        "  outlier_option = int(input((\"1: LOF\\n2: One Class SVM\\n3: IForest\\n4: No Outlier\")))\n",
        "  print(\"---------------------------------------\")\n",
        "\n",
        "  # Prompting User to select Data Sampling method from the list of available options.\n",
        "  # Upon selecting a valid option, it samples batch_data_continous_X,y data for every batch.\n",
        "  print(\"---------------------------------------\")\n",
        "  print(\"Enter Data sampling Technique for Imbalanced Data\")\n",
        "  sampling_option = int(input((\"1: SMOTE\\n2: ADASYN\\n3: Random Oversampling\\n4: No Sampling\\n\")))\n",
        "  print(\"---------------------------------------\")\n",
        "\n",
        "  if(strategy_option == 1): # if option is Uncertainty Sampling\n",
        "    if(outlier_option == 4): # No outlier detection\n",
        "      preset_batch = partial(uncertainty_batch_sampling, n_instances=int(BATCH_SIZE))\n",
        "    else:\n",
        "      preset_batch = partial(uncertainty_batch_sampling, n_instances=int(BATCH_SIZE*0.7))\n",
        "    # Specify our active learning model.\n",
        "    learner = ActiveLearner(estimator=dt, X_training=X_train, y_training=y_train, query_strategy=preset_batch)\n",
        "\n",
        "  elif(strategy_option == 2):\n",
        "    n_members = 2\n",
        "    n_initial = len(X_train)\n",
        "    learner_list = list()\n",
        "    for member_idx in range(n_members):\n",
        "\n",
        "      train_idx = np.random.choice(range(X_train.shape[0]), size=int(n_initial/n_members), replace=False)\n",
        "      X_train_temp = X_train[train_idx]\n",
        "      y_train_temp = y_train[train_idx]\n",
        "\n",
        "      # creating a reduced copy of the data with the known instances removed\n",
        "      X_train = np.delete(X_train, train_idx, axis=0)\n",
        "      y_train = np.delete(y_train, train_idx)\n",
        "\n",
        "      # initializing learner\n",
        "      learnerAL = ActiveLearner(estimator=RandomForestClassifier(), X_training=X_train_temp, y_training=y_train_temp)\n",
        "      learner_list.append(learnerAL)\n",
        "\n",
        "    # assembling the committee\n",
        "    learner = Committee(learner_list=learner_list)\n",
        "\n",
        "  batch_data_continous_X = np.vstack([batch_data_continous_X, X_train])\n",
        "  batch_data_continous_y = np.append(batch_data_continous_y, y_train)\n",
        "\n",
        "\n",
        "\n",
        "  # Initial training with trainset\n",
        "  print(\"========================\")\n",
        "  print(\"Initial Training Results\")\n",
        "  # Isolate the data we'll need for plotting.\n",
        "  predictions = learner.predict(X_test)\n",
        "  is_correct = (predictions == y_test)\n",
        "\n",
        "  model_accuracy = learner.score(X_test, y_test)\n",
        "  predictions = learner.predict(X_test)\n",
        "  print(\"========================\")\n",
        "  print('Accuracy after query {n}: {acc:0.4f}'.format(n=0, acc=model_accuracy))\n",
        "  #print(\"This is\"+ \" \"+ str(x+1) +\" \" + \"iteration.\")\n",
        "  print(confusion_matrix(y_test, predictions))\n",
        "  print(classification_report(y_test, predictions))\n",
        "  print(\"AUC: \"+str(roc_auc_score(y_test, predictions)))\n",
        "  accuracy_history.append(model_accuracy)\n",
        "  auc_history.append(roc_auc_score(y_test, predictions))\n",
        "  f1_minority_history.append(f1_score(y_test, predictions, average=None)[-1])\n",
        "  recal_values = recall_score(y_test, predictions, average=None)\n",
        "  GM_history.append(math.sqrt(recal_values[0]*recal_values[-1]))\n",
        "  \n",
        "  N_QUERIES = int(N_RAW_SAMPLES // BATCH_SIZE)\n",
        "  print(\"========================\")\n",
        "  print(\"Learning phase with \"+ str(N_QUERIES)+\" queries\")\n",
        "  print(\"Total number of records per batch \"+ str(BATCH_SIZE)+\"  divided into\")\n",
        "  if(outlier_option == 4):\n",
        "    print(\"Uncertain samples: \" + str(int(BATCH_SIZE)))\n",
        "    print(\"outlier samples: 0\")\n",
        "  else:\n",
        "    print(\"Uncertain samples: \" + str(int(BATCH_SIZE * 0.7)))\n",
        "    print(\"outlier samples: \" + str(int(BATCH_SIZE * 0.3)))\n",
        "    \n",
        "  print(\"========================\")\n",
        "  for index in range(N_QUERIES):\n",
        "    print(\"---------------------------------------\")\n",
        "    print(\"Learning phase Query: \" + str(index + 1))\n",
        "\n",
        "    print(\"Getting pool of data for learner using selected sampling method\")\n",
        "      \n",
        "    if(strategy_option == 1):\n",
        "      query_index, query_instance = learner.query(X_pool)\n",
        "      # Teach our ActiveLearner model the record it has requested.\n",
        "      X_batch, y_batch = X_pool[query_index], y_pool[query_index]\n",
        "        \n",
        "      # Remove the queried instance from the unlabeled pool.\n",
        "      X_pool = np.delete(X_pool, query_index, axis=0)\n",
        "      y_pool = np.delete(y_pool, query_index)\n",
        "        \n",
        "    elif (strategy_option == 2):\n",
        "\n",
        "      if(outlier_option == 4):\n",
        "        strategy_batch_size = int(BATCH_SIZE)\n",
        "      else:\n",
        "        strategy_batch_size = int(BATCH_SIZE*0.7)\n",
        "        \n",
        "      X_batch = np.array([]).reshape(0,X_pool.shape[1])\n",
        "      y_batch = np.array([]).reshape(0,1)\n",
        "      for strategy_batch_size_i in range(strategy_batch_size):\n",
        "        \n",
        "        query_index, query_instance = learner.query(X_pool)\n",
        "        #Teach our ActiveLearner model the record it has requested.\n",
        "        X_batch = np.vstack([X_batch, X_pool[query_index]])\n",
        "        y_batch = np.append(y_batch, y_pool[query_index])\n",
        "\n",
        "        # Remove the queried instance from the unlabeled pool.\n",
        "        X_pool = np.delete(X_pool, query_index, axis=0)\n",
        "        y_pool = np.delete(y_pool, query_index)\n",
        "\n",
        "\n",
        "    print(\"getting Outliers from data pool\")\n",
        "    if(outlier_option == 1):\n",
        "      outlier_index = Lof(X_pool, int(BATCH_SIZE*0.3))\n",
        "    elif(outlier_option == 2):\n",
        "      outlier_index = OneClassSVMOutlier(X_pool, int(BATCH_SIZE*0.3))\n",
        "    elif(outlier_option == 3):\n",
        "      outlier_index = IForest(X_pool, int(BATCH_SIZE * 0.3))\n",
        "    else:\n",
        "      outlier_index = []\n",
        "\n",
        "    # Teach our ActiveLearner model the outlier record it has requested.\n",
        "    X_outlier, y_outlier = X_pool[outlier_index], y_pool[outlier_index]\n",
        "\n",
        "    # Remove the outlier instance from the unlabeled pool.\n",
        "    X_pool = np.delete(X_pool, outlier_index, axis=0)\n",
        "    y_pool = np.delete(y_pool, outlier_index)\n",
        "\n",
        "\n",
        "    X_batch_l = X_batch.tolist()\n",
        "    y_batch_l = y_batch.tolist()\n",
        "\n",
        "    X_outlier_l =  X_outlier.tolist()\n",
        "    y_outlier_l = y_outlier.tolist()\n",
        "\n",
        "    X_batch_l.extend(X_outlier_l)\n",
        "    y_batch_l.extend(y_outlier_l)\n",
        "\n",
        "    X = np.array(X_batch_l)\n",
        "    y = np.array(y_batch_l)\n",
        "\n",
        "    batch_data_continous_X = np.vstack([batch_data_continous_X, X])\n",
        "    batch_data_continous_y = np.append(batch_data_continous_y, y)\n",
        "  \n",
        "    teach_X = []\n",
        "    teach_y = []\n",
        "    print(\"Data Sampling with selected option\")\n",
        "    if(sampling_option == 1):\n",
        "      oversample = SMOTE(k_neighbors=1)\n",
        "      teach_X, teach_y = oversample.fit_resample(batch_data_continous_X, batch_data_continous_y)\n",
        "    elif(sampling_option == 2):\n",
        "      oversample = ADASYN()\n",
        "      teach_X, teach_y = oversample.fit_resample(batch_data_continous_X, batch_data_continous_y)\n",
        "    elif(sampling_option == 3):\n",
        "      oversample = RandomOverSampler(sampling_strategy='minority')\n",
        "      teach_X, teach_y = oversample.fit_resample(batch_data_continous_X, batch_data_continous_y)\n",
        "    else:\n",
        "      teach_X = batch_data_continous_X\n",
        "      teach_y = batch_data_continous_y\n",
        "      \n",
        "    print(\"teach with query using uncertainity and outlier data\")\n",
        "    learner.teach(X=teach_X, y=teach_y)\n",
        "\n",
        "    # Calculate and report our model's accuracy.\n",
        "    model_accuracy = learner.score(X_test, y_test)\n",
        "    predictions = learner.predict(X_test)\n",
        "    print(\"========================\")\n",
        "    print('Accuracy after query {n}: {acc:0.4f}'.format(n=index + 1, acc=model_accuracy))\n",
        "\n",
        "    print(confusion_matrix(y_test, predictions))\n",
        "    print(classification_report(y_test, predictions))\n",
        "    print(\"AUC: \" + str(roc_auc_score(y_test, predictions)))\n",
        "\n",
        "    accuracy_history.append(model_accuracy)\n",
        "    auc_history.append(roc_auc_score(y_test, predictions))\n",
        "    f1_minority_history.append(f1_score(y_test, predictions, average=None)[-1])\n",
        "    recal_values = recall_score(y_test, predictions, average=None)\n",
        "    GM_history.append(math.sqrt(recal_values[0] * recal_values[-1]))\n",
        "\n",
        "  # Plot metrics\n",
        "  plotGraph(accuracy_history,'Accuracy')\n",
        "  plotGraph(auc_history, 'AUC')\n",
        "  plotGraph(f1_minority_history, 'F1 scores for Minority class')\n",
        "  plotGraph(GM_history, 'Geometric means of recall values')"
      ],
      "execution_count": null,
      "outputs": [
        {
          "output_type": "stream",
          "text": [
            "---------------------------------------\n",
            "Select Feature Selection option\n",
            "1: Recursive Feature Selection\n",
            "2: No Feature Selection\n",
            "2\n",
            "---------------------------------------\n",
            "Shape of data set :(1484, 8)\n",
            "Preparing Initial Training, Pool and Test sets for initial AL\n",
            "training set size: 726\n",
            "pool set size: 312\n",
            "test set size: 446\n",
            "---------------------------------------\n",
            "Select Strategy\n",
            "1: Ranked Batch using Uncertainity\n",
            "2: Query By Committee Batch\n",
            "2\n",
            "---------------------------------------\n",
            "---------------------------------------\n",
            "Enter Batch Size :(Default is 10)\n",
            "\n",
            "30\n",
            "---------------------------------------\n",
            "---------------------------------------\n",
            "Enter Outlier Detection Method\n",
            "1: LOF\n",
            "2: One Class SVM\n",
            "3: IForest\n",
            "4: No Outlier4\n",
            "---------------------------------------\n",
            "---------------------------------------\n",
            "Enter Data sampling Technique for Imbalanced Data\n",
            "1: SMOTE\n",
            "2: ADASYN\n",
            "3: Random Oversampling\n",
            "4: No Sampling\n",
            "4\n",
            "---------------------------------------\n",
            "========================\n",
            "Initial Training Results\n",
            "========================\n",
            "Accuracy after query 0: 0.9350\n",
            "[[390   7]\n",
            " [ 22  27]]\n",
            "              precision    recall  f1-score   support\n",
            "\n",
            "           0       0.95      0.98      0.96       397\n",
            "           1       0.79      0.55      0.65        49\n",
            "\n",
            "    accuracy                           0.93       446\n",
            "   macro avg       0.87      0.77      0.81       446\n",
            "weighted avg       0.93      0.93      0.93       446\n",
            "\n",
            "AUC: 0.7666940831748316\n",
            "========================\n",
            "Learning phase with 10 queries\n",
            "Total number of records per batch 30  divided into\n",
            "Uncertain samples: 30\n",
            "outlier samples: 0\n",
            "========================\n",
            "---------------------------------------\n",
            "Learning phase Query: 1\n",
            "Getting pool of data for learner using selected sampling method\n",
            "getting Outliers from data pool\n",
            "Data Sampling with selected option\n",
            "teach with query using uncertainity and outlier data\n",
            "========================\n",
            "Accuracy after query 1: 0.9417\n",
            "[[391   6]\n",
            " [ 20  29]]\n",
            "              precision    recall  f1-score   support\n",
            "\n",
            "           0       0.95      0.98      0.97       397\n",
            "           1       0.83      0.59      0.69        49\n",
            "\n",
            "    accuracy                           0.94       446\n",
            "   macro avg       0.89      0.79      0.83       446\n",
            "weighted avg       0.94      0.94      0.94       446\n",
            "\n",
            "AUC: 0.7883616922839665\n",
            "---------------------------------------\n",
            "Learning phase Query: 2\n",
            "Getting pool of data for learner using selected sampling method\n",
            "getting Outliers from data pool\n",
            "Data Sampling with selected option\n",
            "teach with query using uncertainity and outlier data\n",
            "========================\n",
            "Accuracy after query 2: 0.9507\n",
            "[[395   2]\n",
            " [ 20  29]]\n",
            "              precision    recall  f1-score   support\n",
            "\n",
            "           0       0.95      0.99      0.97       397\n",
            "           1       0.94      0.59      0.72        49\n",
            "\n",
            "    accuracy                           0.95       446\n",
            "   macro avg       0.94      0.79      0.85       446\n",
            "weighted avg       0.95      0.95      0.95       446\n",
            "\n",
            "AUC: 0.7933994756592813\n",
            "---------------------------------------\n",
            "Learning phase Query: 3\n",
            "Getting pool of data for learner using selected sampling method\n",
            "getting Outliers from data pool\n",
            "Data Sampling with selected option\n",
            "teach with query using uncertainity and outlier data\n",
            "========================\n",
            "Accuracy after query 3: 0.9484\n",
            "[[394   3]\n",
            " [ 20  29]]\n",
            "              precision    recall  f1-score   support\n",
            "\n",
            "           0       0.95      0.99      0.97       397\n",
            "           1       0.91      0.59      0.72        49\n",
            "\n",
            "    accuracy                           0.95       446\n",
            "   macro avg       0.93      0.79      0.84       446\n",
            "weighted avg       0.95      0.95      0.94       446\n",
            "\n",
            "AUC: 0.7921400298154526\n",
            "---------------------------------------\n",
            "Learning phase Query: 4\n",
            "Getting pool of data for learner using selected sampling method\n",
            "getting Outliers from data pool\n",
            "Data Sampling with selected option\n",
            "teach with query using uncertainity and outlier data\n",
            "========================\n",
            "Accuracy after query 4: 0.9552\n",
            "[[393   4]\n",
            " [ 16  33]]\n",
            "              precision    recall  f1-score   support\n",
            "\n",
            "           0       0.96      0.99      0.98       397\n",
            "           1       0.89      0.67      0.77        49\n",
            "\n",
            "    accuracy                           0.96       446\n",
            "   macro avg       0.93      0.83      0.87       446\n",
            "weighted avg       0.95      0.96      0.95       446\n",
            "\n",
            "AUC: 0.8316969105022363\n",
            "---------------------------------------\n",
            "Learning phase Query: 5\n",
            "Getting pool of data for learner using selected sampling method\n",
            "getting Outliers from data pool\n",
            "Data Sampling with selected option\n",
            "teach with query using uncertainity and outlier data\n",
            "========================\n",
            "Accuracy after query 5: 0.9596\n",
            "[[393   4]\n",
            " [ 14  35]]\n",
            "              precision    recall  f1-score   support\n",
            "\n",
            "           0       0.97      0.99      0.98       397\n",
            "           1       0.90      0.71      0.80        49\n",
            "\n",
            "    accuracy                           0.96       446\n",
            "   macro avg       0.93      0.85      0.89       446\n",
            "weighted avg       0.96      0.96      0.96       446\n",
            "\n",
            "AUC: 0.8521050737675424\n",
            "---------------------------------------\n",
            "Learning phase Query: 6\n",
            "Getting pool of data for learner using selected sampling method\n",
            "getting Outliers from data pool\n",
            "Data Sampling with selected option\n",
            "teach with query using uncertainity and outlier data\n",
            "========================\n",
            "Accuracy after query 6: 0.9596\n",
            "[[392   5]\n",
            " [ 13  36]]\n",
            "              precision    recall  f1-score   support\n",
            "\n",
            "           0       0.97      0.99      0.98       397\n",
            "           1       0.88      0.73      0.80        49\n",
            "\n",
            "    accuracy                           0.96       446\n",
            "   macro avg       0.92      0.86      0.89       446\n",
            "weighted avg       0.96      0.96      0.96       446\n",
            "\n",
            "AUC: 0.8610497095563667\n",
            "---------------------------------------\n",
            "Learning phase Query: 7\n",
            "Getting pool of data for learner using selected sampling method\n",
            "getting Outliers from data pool\n",
            "Data Sampling with selected option\n",
            "teach with query using uncertainity and outlier data\n",
            "========================\n",
            "Accuracy after query 7: 0.9574\n",
            "[[392   5]\n",
            " [ 14  35]]\n",
            "              precision    recall  f1-score   support\n",
            "\n",
            "           0       0.97      0.99      0.98       397\n",
            "           1       0.88      0.71      0.79        49\n",
            "\n",
            "    accuracy                           0.96       446\n",
            "   macro avg       0.92      0.85      0.88       446\n",
            "weighted avg       0.96      0.96      0.96       446\n",
            "\n",
            "AUC: 0.8508456279237137\n",
            "---------------------------------------\n",
            "Learning phase Query: 8\n",
            "Getting pool of data for learner using selected sampling method\n",
            "getting Outliers from data pool\n",
            "Data Sampling with selected option\n",
            "teach with query using uncertainity and outlier data\n",
            "========================\n",
            "Accuracy after query 8: 0.9619\n",
            "[[392   5]\n",
            " [ 12  37]]\n",
            "              precision    recall  f1-score   support\n",
            "\n",
            "           0       0.97      0.99      0.98       397\n",
            "           1       0.88      0.76      0.81        49\n",
            "\n",
            "    accuracy                           0.96       446\n",
            "   macro avg       0.93      0.87      0.90       446\n",
            "weighted avg       0.96      0.96      0.96       446\n",
            "\n",
            "AUC: 0.8712537911890197\n",
            "---------------------------------------\n",
            "Learning phase Query: 9\n",
            "Getting pool of data for learner using selected sampling method\n",
            "getting Outliers from data pool\n",
            "Data Sampling with selected option\n",
            "teach with query using uncertainity and outlier data\n",
            "========================\n",
            "Accuracy after query 9: 0.9619\n",
            "[[392   5]\n",
            " [ 12  37]]\n",
            "              precision    recall  f1-score   support\n",
            "\n",
            "           0       0.97      0.99      0.98       397\n",
            "           1       0.88      0.76      0.81        49\n",
            "\n",
            "    accuracy                           0.96       446\n",
            "   macro avg       0.93      0.87      0.90       446\n",
            "weighted avg       0.96      0.96      0.96       446\n",
            "\n",
            "AUC: 0.8712537911890197\n",
            "---------------------------------------\n",
            "Learning phase Query: 10\n",
            "Getting pool of data for learner using selected sampling method\n",
            "getting Outliers from data pool\n",
            "Data Sampling with selected option\n",
            "teach with query using uncertainity and outlier data\n",
            "========================\n",
            "Accuracy after query 10: 0.9619\n",
            "[[393   4]\n",
            " [ 13  36]]\n",
            "              precision    recall  f1-score   support\n",
            "\n",
            "           0       0.97      0.99      0.98       397\n",
            "           1       0.90      0.73      0.81        49\n",
            "\n",
            "    accuracy                           0.96       446\n",
            "   macro avg       0.93      0.86      0.89       446\n",
            "weighted avg       0.96      0.96      0.96       446\n",
            "\n",
            "AUC: 0.8623091554001954\n"
          ],
          "name": "stdout"
        },
        {
          "output_type": "display_data",
          "data": {
            "image/png": "[encoded data removed]",
            "text/plain": [
              "<Figure size 1105x780 with 1 Axes>"
            ]
          },
          "metadata": {
            "tags": [],
            "needs_background": "light"
          }
        },
        {
          "output_type": "display_data",
          "data": {
            "image/png": "[encoded data removed]",
            "text/plain": [
              "<Figure size 1105x780 with 1 Axes>"
            ]
          },
          "metadata": {
            "tags": [],
            "needs_background": "light"
          }
        },
        {
          "output_type": "display_data",
          "data": {
            "image/png": "[encoded data removed]",
            "text/plain": [
              "<Figure size 1105x780 with 1 Axes>"
            ]
          },
          "metadata": {
            "tags": [],
            "needs_background": "light"
          }
        },
        {
          "output_type": "display_data",
          "data": {
            "image/png": "[encoded data removed]",
            "text/plain": [
              "<Figure size 1105x780 with 1 Axes>"
            ]
          },
          "metadata": {
            "tags": [],
            "needs_background": "light"
          }
        }
      ]
    },
    {
      "cell_type": "code",
      "metadata": {
        "id": "S9jExgViHNwr",
        "colab": {
          "base_uri": "https://localhost:8080/"
        },
        "outputId": "33d9e4e6-7739-4d62-8ab2-b87ce3697b40"
      },
      "source": [
        "1114314#Calculating the mean of the accuracy:\n",
        "\n",
        "def Mean_of_accuracy(lst):\n",
        "  return sum(lst)/len(lst)\n",
        "\n",
        "lst= accuracy_history\n",
        "mean1= Mean_of_accuracy(lst)\n",
        "print(mean1)"
      ],
      "execution_count": null,
      "outputs": [
        {
          "output_type": "stream",
          "text": [
            "0.9486343253159397\n"
          ],
          "name": "stdout"
        }
      ]
    },
    {
      "cell_type": "code",
      "metadata": {
        "colab": {
          "base_uri": "https://localhost:8080/"
        },
        "id": "BIIJoRn5fkAD",
        "outputId": "8d071a14-d285-43c4-9f89-43a61f3fcba3"
      },
      "source": [
        "# Calculating the mean of the AUC:\n",
        "\n",
        "def Mean_of_auc(lst1):\n",
        "  return sum(lst1)/len(lst1)\n",
        "\n",
        "lst1= auc_history\n",
        "mean2= Mean_of_auc(lst1)\n",
        "print(mean2)"
      ],
      "execution_count": null,
      "outputs": [
        {
          "output_type": "stream",
          "text": [
            "0.8223410270909371\n"
          ],
          "name": "stdout"
        }
      ]
    },
    {
      "cell_type": "code",
      "metadata": {
        "colab": {
          "base_uri": "https://localhost:8080/"
        },
        "id": "YWTrHtcPfsTb",
        "outputId": "400b5164-c629-439c-e059-9fc172917b74"
      },
      "source": [
        "# Calculating the F1 scores for the minority values:\n",
        "\n",
        "def Mean_of_F1(lst2):\n",
        "  return sum(lst2)/len(lst2)\n",
        "\n",
        "lst2= f1_minority_history\n",
        "mean3= Mean_of_F1(lst2)\n",
        "print(mean3)"
      ],
      "execution_count": null,
      "outputs": [
        {
          "output_type": "stream",
          "text": [
            "0.7382298992612387\n"
          ],
          "name": "stdout"
        }
      ]
    },
    {
      "cell_type": "code",
      "metadata": {
        "colab": {
          "base_uri": "https://localhost:8080/"
        },
        "id": "V6Y97Ol7fz1B",
        "outputId": "78cdc9de-6cfc-44db-8706-de7085557c8d"
      },
      "source": [
        "# calculating the G-Mean Scores:\n",
        "\n",
        "def Mean_of_GM(lst3):\n",
        "  return sum(lst3)/len(lst3)\n",
        "\n",
        "lst3= GM_history\n",
        "mean4= Mean_of_GM(lst3)\n",
        "print(mean4)"
      ],
      "execution_count": null,
      "outputs": [
        {
          "output_type": "stream",
          "text": [
            "0.8059740626932254\n"
          ],
          "name": "stdout"
        }
      ]
    },
    {
      "cell_type": "code",
      "metadata": {
        "colab": {
          "base_uri": "https://localhost:8080/"
        },
        "id": "bWRKaDddgA2z",
        "outputId": "107103b5-d012-49ea-9671-c910d9bc1fe6"
      },
      "source": [
        "print(accuracy_history)\n",
        "print(auc_history)\n",
        "print(f1_minority_history)\n",
        "print(GM_history)"
      ],
      "execution_count": null,
      "outputs": [
        {
          "output_type": "stream",
          "text": [
            "[0.9349775784753364, 0.9417040358744395, 0.9506726457399103, 0.9484304932735426, 0.9551569506726457, 0.9596412556053812, 0.9596412556053812, 0.9573991031390134, 0.9618834080717489, 0.9618834080717489, 0.9618834080717489]\n",
            "[0.7666940831748316, 0.7883616922839665, 0.7933994756592813, 0.7921400298154526, 0.8316969105022363, 0.8521050737675424, 0.8610497095563667, 0.8508456279237137, 0.8712537911890197, 0.8712537911890197, 0.8623091554001954]\n",
            "[0.6506024096385542, 0.6904761904761905, 0.7249999999999999, 0.7160493827160493, 0.7674418604651163, 0.7954545454545455, 0.8, 0.7865168539325842, 0.8131868131868131, 0.8131868131868131, 0.8089887640449438]\n",
            "[0.7357341116750676, 0.7634737054444333, 0.7673690047369232, 0.7663970360064458, 0.8165070740564774, 0.8408857716077776, 0.8517281291852113, 0.8398152609616478, 0.8634766583681341, 0.8634766583681341, 0.8528138251379818]\n"
          ],
          "name": "stdout"
        }
      ]
    },
    {
      "cell_type": "code",
      "metadata": {
        "id": "ZIevIRYQlT35",
        "colab": {
          "base_uri": "https://localhost:8080/"
        },
        "outputId": "7751a9f9-d054-4986-e3ef-65c73f11cedd"
      },
      "source": [
        "def accu(mylist):\n",
        "  mylist.append(accuracy_history)\n",
        "  return mylist\n",
        "\n",
        "mylist=accuracy_history\n",
        "#res_df= pd.DataFrame(mylist)\n",
        "ans= accu(mylist)\n",
        "print(ans)\n",
        "#print(res_df)"
      ],
      "execution_count": null,
      "outputs": [
        {
          "output_type": "stream",
          "text": [
            "[0.9439461883408071, 0.9327354260089686, 0.9147982062780269, 0.92152466367713, 0.9170403587443946, 0.9013452914798207, 0.9192825112107623, 0.9237668161434978, 0.9192825112107623, 0.92152466367713, 0.9147982062780269, [...]]\n"
          ],
          "name": "stdout"
        }
      ]
    },
    {
      "cell_type": "code",
      "metadata": {
        "colab": {
          "base_uri": "https://localhost:8080/"
        },
        "id": "A9GvI1gFlTSl",
        "outputId": "4ab92d11-19a6-456f-a716-7fbbcfbaf8ae"
      },
      "source": [
        "type(res_df)"
      ],
      "execution_count": null,
      "outputs": [
        {
          "output_type": "execute_result",
          "data": {
            "text/plain": [
              "pandas.core.frame.DataFrame"
            ]
          },
          "metadata": {
            "tags": []
          },
          "execution_count": 34
        }
      ]
    },
    {
      "cell_type": "code",
      "metadata": {
        "id": "JuH6IDfalV5p"
      },
      "source": [
        ""
      ],
      "execution_count": null,
      "outputs": []
    }
  ]
}